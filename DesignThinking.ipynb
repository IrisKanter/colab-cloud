import json
from google.colab import drive
import ipywidgets as widgets
from IPython.display import display, clear_output

# Mount Google Drive
drive.mount('/content/drive')

# Correct file path
questions_file_path = '/content/drive/MyDrive/questions.json'

# Load questions from JSON file
with open(questions_file_path, 'r') as f:
    questions = json.load(f)

def run_quiz():
    player_score = 0
    current_question_index = 0

    # Display the first question
    def display_question():
        nonlocal player_score
        nonlocal current_question_index

        # Clear the output for the next question
        clear_output(wait=True)

        if current_question_index < min(5, len(questions)):
            # Display the current question
            question = questions[current_question_index]
            print(f"\nQuestion {current_question_index + 1}: {question['text']}")

            # Create radio buttons for answer options
            options_radio_buttons = widgets.RadioButtons(options=[(f"{j}. {option}", j) for j, option in enumerate(question['options'], 1)],
                                                         value=None,  # Set default value to None
                                                         description="Choose your answer:")

            # Create a submit button
            submit_button = widgets.Button(description="Submit")

            # Display widgets in the main screen
            display(options_radio_buttons, submit_button)

            # Record the selected answer
            def on_submit_button_click(b):
                nonlocal player_score
                nonlocal current_question_index

                player_answer = options_radio_buttons.value

                # Set a default value for player_answer if it is None
                player_answer = player_answer or 0

                # Check if the answer is correct and increment the score
                if player_answer == question['options'].index(question['correct']) + 1:
                    player_score += 1

                # Increment the question index
                current_question_index += 1

                # Remove the button click event to prevent multiple bindings
                submit_button.on_click(on_submit_button_click)

                # Show the next question or display final score
                if current_question_index < min(5, len(questions)):
                    display_question()
                else:
                    # If all questions are answered, display the final score
                    clear_output(wait=True)
                    print(f"\nQuiz completed! Your score: {player_score}/{min(5, len(questions))}")

            # Attach the function to the button's click event
            submit_button.on_click(on_submit_button_click)

    # Display the first question
    display_question()

if __name__ == "__main__":
    run_quiz()
